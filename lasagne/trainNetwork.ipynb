{
 "cells": [
  {
   "cell_type": "markdown",
   "metadata": {},
   "source": [
    "# This Notebook allows you to run any Network on the fingernails dataset\n",
    "Just simply set the paths and parameters and run it"
   ]
  },
  {
   "cell_type": "code",
   "execution_count": 2,
   "metadata": {
    "collapsed": false
   },
   "outputs": [],
   "source": [
    "%load_ext autoreload\n",
    "%autoreload 2\n",
    "## imports\n",
    "from util.LoadData import loadFingernails\n",
    "\n",
    "import warnings\n",
    "warnings.filterwarnings(\"ignore\", category=DeprecationWarning) \n",
    "\n",
    "from __future__ import print_function\n",
    "\n",
    "import sys\n",
    "import os\n",
    "import time\n",
    "import string\n",
    "import random\n",
    "import pickle\n",
    "import argparse\n",
    "\n",
    "import numpy as np\n",
    "import theano\n",
    "import theano.tensor as T\n",
    "import lasagne\n",
    "\n",
    "from sklearn.metrics import r2_score"
   ]
  },
  {
   "cell_type": "markdown",
   "metadata": {},
   "source": [
    "\n",
    "## SET GLOBAL VARIABLES WHICH ARE NEEDED BY ALL CNNS"
   ]
  },
  {
   "cell_type": "code",
   "execution_count": 3,
   "metadata": {
    "collapsed": true
   },
   "outputs": [],
   "source": [
    "## variables\n",
    "\n",
    "fingernailsPath = \"../dataset/s1Whitened.mat\"\n",
    "epochs=100\n",
    "lr_rate=0.001\n",
    "context=\"forces\" ## [forces, torques, surface]\n",
    "augment=False ## If true syntetic data will be added by rotating and mirroring"
   ]
  },
  {
   "cell_type": "markdown",
   "metadata": {},
   "source": [
    "## LOADS THE FINGERNAIL DATASET"
   ]
  },
  {
   "cell_type": "code",
   "execution_count": 4,
   "metadata": {
    "collapsed": false
   },
   "outputs": [],
   "source": [
    "## Loading\n",
    "(X_train, Y_train), (X_valid, Y_valid), \\\n",
    "            (X_test, Y_test) = loadFingernails(path=fingernailsPath, shared=False, context=context, augment=augment)\n",
    "## Prepare Theano variables for inputs and targets\n",
    "input_var = T.tensor4('inputs')\n",
    "target_var = T.matrix('targets')"
   ]
  },
  {
   "cell_type": "markdown",
   "metadata": {},
   "source": [
    "## RUN THIS IF YOU WANT TO RUN THE RESNET IMPLEMENTATION"
   ]
  },
  {
   "cell_type": "code",
   "execution_count": 6,
   "metadata": {
    "collapsed": false
   },
   "outputs": [
    {
     "name": "stdout",
     "output_type": "stream",
     "text": [
      "number of parameters in model: 6065\n"
     ]
    }
   ],
   "source": [
    "from base.ResNet import ResNet\n",
    "\n",
    "## resnet variables\n",
    "cropShape = (105,111)\n",
    "blocks_length=1\n",
    "init_filter_count=2\n",
    "n_prediction=Y_train.shape[1]\n",
    "\n",
    "cnn = ResNet(input_var, target_var, cropShape, n_prediction, blocks_length, init_filter_count)"
   ]
  },
  {
   "cell_type": "markdown",
   "metadata": {},
   "source": [
    "## COMPILES THE FUNCTIONS FOR TRAINING AND VALIDATION"
   ]
  },
  {
   "cell_type": "code",
   "execution_count": 7,
   "metadata": {
    "collapsed": false
   },
   "outputs": [],
   "source": [
    "cnn.compile(lr_rate)"
   ]
  },
  {
   "cell_type": "markdown",
   "metadata": {},
   "source": [
    "# TRAINS THE NETWORK WITH THE SPECIFIED PARAMETERS\n",
    "Uncomment if you want to do a real run"
   ]
  },
  {
   "cell_type": "code",
   "execution_count": 10,
   "metadata": {
    "collapsed": false
   },
   "outputs": [
    {
     "name": "stdout",
     "output_type": "stream",
     "text": [
      "Starting training...\n",
      "Epoch 1 of 2 took 1.233s\n",
      "  training loss:\t\t1.801693\n",
      "  validation loss:\t\t1.526272\n",
      "  test loss:\t\t1.340438\n",
      "Epoch 2 of 2 took 1.199s\n",
      "  training loss:\t\t1.600876\n",
      "  validation loss:\t\t1.437478\n",
      "  test loss:\t\t1.263785\n"
     ]
    }
   ],
   "source": [
    "exportLive=True\n",
    "exportTxtFileLive=\"loss_resi_live.csv\"\n",
    "\n",
    "##DEBUG COMMENT OUT FOR LIVE RUN##\n",
    "X_train = X_train[:50]\n",
    "Y_train = Y_train[:50]\n",
    "X_valid = X_valid[:50]\n",
    "Y_valid = Y_valid[:50]\n",
    "X_test = X_test[:50]\n",
    "Y_test = Y_test[:50]\n",
    "epochs = 2\n",
    "################################\n",
    "\n",
    "cnn.train(X_train, Y_train, X_valid, Y_valid, X_test, Y_test,  epochs,\\\n",
    "           exportLive=exportLive, exportTxtFile=exportTxtFileLive)"
   ]
  },
  {
   "cell_type": "markdown",
   "metadata": {},
   "source": [
    "## PLOTS THE RESULTS OF THE TRAINING"
   ]
  },
  {
   "cell_type": "code",
   "execution_count": 15,
   "metadata": {
    "collapsed": false
   },
   "outputs": [
    {
     "data": {
      "image/png": "[encoded data removed]",
      "text/plain": [
       "<matplotlib.figure.Figure at 0x12ed7a8d0>"
      ]
     },
     "metadata": {},
     "output_type": "display_data"
    }
   ],
   "source": [
    "%matplotlib inline\n",
    "import matplotlib\n",
    "import matplotlib.pyplot as plt\n",
    "from util.Exporter import plotError\n",
    "\n",
    "fig = plt.figure(1, figsize = (11, 9))\n",
    "plt.suptitle('Error / Loss')\n",
    "_ = plt.grid(True)\n",
    "\n",
    "# plot the hat function\n",
    "ax = []\n",
    "ax.append(plt.plot(cnn.trainRes[0], cnn.trainRes[1], label=\"Training Loss Curve\"))\n",
    "ax.append(plt.plot(cnn.valRes[0], cnn.valRes[1], label=\"Validation Loss Curve\"))\n",
    "ax.append(plt.plot(cnn.testRes[0], cnn.testRes[1], label=\"Testing Loss Curve \"))\n",
    "\n",
    "    \n",
    "_ = plt.legend()\n",
    "_ = plt.show()"
   ]
  },
  {
   "cell_type": "markdown",
   "metadata": {},
   "source": [
    "## EXPORTS THE RESULT INTO THE SPECIFIED CSV"
   ]
  },
  {
   "cell_type": "code",
   "execution_count": 30,
   "metadata": {
    "collapsed": false
   },
   "outputs": [],
   "source": [
    "from util.Exporter import csvExport\n",
    "exportTxtFile=\"loss_res.csv\"\n",
    "csvExport(cnn.trainRes, cnn.valRes, cnn.testRes, exportTxtFile)"
   ]
  },
  {
   "cell_type": "markdown",
   "metadata": {},
   "source": [
    "## EXPORTS THE MODELS PARAMETERS FOR LATER USE"
   ]
  },
  {
   "cell_type": "code",
   "execution_count": 28,
   "metadata": {
    "collapsed": false
   },
   "outputs": [],
   "source": [
    "from util.Exporter import exportModel\n",
    "exportModelFile=\"forcesNet.npz\"\n",
    "exportModel(exportModelFile, cnn.cnn)"
   ]
  }
 ],
 "metadata": {
  "kernelspec": {
   "display_name": "Python 2",
   "language": "python",
   "name": "python2"
  },
  "language_info": {
   "codemirror_mode": {
    "name": "ipython",
    "version": 2
   },
   "file_extension": ".py",
   "mimetype": "text/x-python",
   "name": "python",
   "nbconvert_exporter": "python",
   "pygments_lexer": "ipython2",
   "version": "2.7.11"
  }
 },
 "nbformat": 4,
 "nbformat_minor": 0
}
